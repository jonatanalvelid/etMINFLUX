{
 "cells": [
  {
   "cell_type": "code",
   "execution_count": 2,
   "metadata": {},
   "outputs": [],
   "source": [
    "import mouse as mouse\n",
    "import numpy as np\n",
    "import matplotlib.pyplot as plt\n",
    "import time\n",
    "from datetime import datetime"
   ]
  },
  {
   "cell_type": "code",
   "execution_count": 4,
   "metadata": {},
   "outputs": [
    {
     "data": {
      "text/plain": [
       "(1162, 334)"
      ]
     },
     "execution_count": 4,
     "metadata": {},
     "output_type": "execute_result"
    }
   ],
   "source": [
    "mouse.get_position()"
   ]
  },
  {
   "cell_type": "code",
   "execution_count": 281,
   "metadata": {},
   "outputs": [
    {
     "name": "stdout",
     "output_type": "stream",
     "text": [
      "Time for drag: 76.7 ms\n"
     ]
    }
   ],
   "source": [
    "\n",
    "conf_top_x = 591\n",
    "conf_top_y = 149\n",
    "px_size = 80/788\n",
    "\n",
    "x_center_um = 13.2 + 40\n",
    "y_center_um = -3.5 + 40\n",
    "\n",
    "x_center_px = conf_top_x + x_center_um/px_size\n",
    "y_center_px = conf_top_y + y_center_um/px_size\n",
    "x_size_um = 3.7\n",
    "y_size_um = 0.7\n",
    "positions = (x_center_px-x_size_um/px_size/2,\n",
    "             y_center_px-y_size_um/px_size/2,\n",
    "             x_center_px+x_size_um/px_size/2,\n",
    "             y_center_px+y_size_um/px_size/2)\n",
    "\n",
    "\n",
    "time.sleep(0.5)\n",
    "time_bef = time.time()\n",
    "mouse.drag(*positions,absolute=True,duration=0.03)\n",
    "time_aft = time.time()\n",
    "print(f\"Time for drag: {(1000*(time_aft-time_bef)):.1f} ms\")\n",
    "\n",
    "mouse.move(71,1665)"
   ]
  },
  {
   "cell_type": "code",
   "execution_count": 205,
   "metadata": {},
   "outputs": [],
   "source": [
    "# MOUSE POSITIONS\n",
    "# MFX button (far left) - (28,70)\n",
    "\n",
    "# CONF image top left - (591, 149)\n",
    "# CONF image bottom right - (1379, 936)\n",
    "# CONF image size - 80 x 80 um2  // 788 x 787 px\n",
    "# CONF image screen pixel size - 80/788 = 0.101523 um/px\n",
    "conf_top_x = 591\n",
    "conf_top_y = 149\n",
    "px_size = 80/788"
   ]
  },
  {
   "cell_type": "code",
   "execution_count": 32,
   "metadata": {},
   "outputs": [
    {
     "data": {
      "text/plain": [
       "<function mouse.on_button.<locals>.handler(event)>"
      ]
     },
     "execution_count": 32,
     "metadata": {},
     "output_type": "execute_result"
    }
   ],
   "source": [
    "def test():\n",
    "    global currpos\n",
    "    currpos = mouse.get_position()\n",
    "    mouse.unhook_all()\n",
    "\n",
    "mouse.on_click(test)"
   ]
  },
  {
   "cell_type": "code",
   "execution_count": 34,
   "metadata": {},
   "outputs": [
    {
     "data": {
      "text/plain": [
       "(806, 330)"
      ]
     },
     "execution_count": 34,
     "metadata": {},
     "output_type": "execute_result"
    }
   ],
   "source": [
    "currpos"
   ]
  },
  {
   "cell_type": "code",
   "execution_count": null,
   "metadata": {},
   "outputs": [],
   "source": []
  }
 ],
 "metadata": {
  "kernelspec": {
   "display_name": "imspector",
   "language": "python",
   "name": "python3"
  },
  "language_info": {
   "codemirror_mode": {
    "name": "ipython",
    "version": 3
   },
   "file_extension": ".py",
   "mimetype": "text/x-python",
   "name": "python",
   "nbconvert_exporter": "python",
   "pygments_lexer": "ipython3",
   "version": "3.10.4"
  },
  "orig_nbformat": 4
 },
 "nbformat": 4,
 "nbformat_minor": 2
}
